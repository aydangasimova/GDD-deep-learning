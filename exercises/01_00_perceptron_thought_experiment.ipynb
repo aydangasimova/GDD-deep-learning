{
 "cells": [
  {
   "cell_type": "code",
   "execution_count": null,
   "id": "prompt-undergraduate",
   "metadata": {},
   "outputs": [],
   "source": [
    "%%HTML\n",
    "<link rel=\"stylesheet\" type=\"text/css\" href=\"../css/custom.css\">"
   ]
  },
  {
   "cell_type": "markdown",
   "id": "victorian-lawsuit",
   "metadata": {},
   "source": [
    "# Perceptron thought experiment\n",
    "\n",
    "![footer_logo](../images/logo.png)\n",
    "\n",
    "## Goal\n",
    "\n",
    "In this notebook we shall try to imagine perceptrons that can perform logical operations\n",
    "\n",
    "## Program\n",
    "\n",
    "We'll first explain the problem and how we will tackle it\n",
    "\n",
    "- [The logical operations]()\n",
    "- [The perceptron]()\n",
    "- [The weights]()\n",
    "\n",
    "Then you'll try to think of weights to solve the following problems\n",
    "\n",
    "- [Logical operator AND]()\n",
    "- [Logical operator OR]()\n",
    "- [Logical operator XOR]()\n"
   ]
  },
  {
   "cell_type": "markdown",
   "id": "functional-primary",
   "metadata": {},
   "source": [
    "---\n",
    "## The logical operations\n",
    "\n",
    "The logical operations we shall try to perform the following logical operations\n",
    "\n",
    "| p | q | p AND q | p OR q | p XOR q | \n",
    "|---|---|---------|--------|---------|\n",
    "| 0 | 0 |    0    |    0   |    0    |\n",
    "| 0 | 1 |    0    |    1   |     1   |\n",
    "| 1 | 0 |    0    |    1   |    1    |\n",
    "| 1 | 1 |    1    |    1   |    0    |"
   ]
  },
  {
   "cell_type": "markdown",
   "id": "chubby-joint",
   "metadata": {},
   "source": [
    "## The perceptron\n",
    "\n",
    "Below is a diagram of the perceptron we shall be using\n",
    "\n",
    "\n",
    "<img src=\"../images/perceptron_thought_experiment/perceptron.png\" width=\"700\" align=\"center\">"
   ]
  },
  {
   "cell_type": "markdown",
   "id": "fifth-olympus",
   "metadata": {},
   "source": [
    "## Weights\n",
    "\n",
    "Try to think of values for $w_1$ & $w_2$ that will allow us to get the desired logical operation.\n"
   ]
  },
  {
   "cell_type": "code",
   "execution_count": null,
   "id": "mineral-photographer",
   "metadata": {},
   "outputs": [],
   "source": [
    "import pandas as pd\n",
    "data = {'p':[0,0,1,1], 'q':[0,1,0,1]}\n",
    "df = pd.DataFrame(data)\n",
    "df"
   ]
  },
  {
   "cell_type": "code",
   "execution_count": null,
   "id": "loose-occasions",
   "metadata": {},
   "outputs": [],
   "source": [
    "def perceptron(df, w1, w2, theta = 0.5):\n",
    "    \"\"\"returns the output of the perceptron using the given weights\"\"\"\n",
    "    \n",
    "    return df.assign(output= ((w1*df['p'] +w2*df['q'])>=theta)).astype('int')"
   ]
  },
  {
   "cell_type": "markdown",
   "id": "demanding-screw",
   "metadata": {},
   "source": [
    "---\n",
    "## Logical operator AND\n",
    "\n",
    "What are some possible values for $w$\n",
    "\n",
    "| p | q | p AND q |\n",
    "|---|---|---------|\n",
    "| 0 | 0 |    0    |\n",
    "| 0 | 1 |    0    |\n",
    "| 1 | 0 |    0    |\n",
    "| 1 | 1 |    1    | "
   ]
  },
  {
   "cell_type": "code",
   "execution_count": null,
   "id": "presidential-architect",
   "metadata": {},
   "outputs": [],
   "source": [
    "w1 = 0.4\n",
    "w2 = 0.4"
   ]
  },
  {
   "cell_type": "code",
   "execution_count": null,
   "id": "chicken-outside",
   "metadata": {
    "scrolled": true
   },
   "outputs": [],
   "source": [
    "perceptron(df, w1, w2)"
   ]
  },
  {
   "cell_type": "markdown",
   "id": "afraid-freeware",
   "metadata": {},
   "source": [
    "## Logical operator OR\n",
    "\n",
    "What are some possible values for $w$\n",
    "\n",
    "| p | q | p OR q |\n",
    "|---|---|---------|\n",
    "| 0 | 0 |    0    |\n",
    "| 0 | 1 |    1   |\n",
    "| 1 | 0 |    1    |\n",
    "| 1 | 1 |    1    | "
   ]
  },
  {
   "cell_type": "code",
   "execution_count": null,
   "id": "arctic-jenny",
   "metadata": {},
   "outputs": [],
   "source": [
    "w1 = ...\n",
    "w2 = ..."
   ]
  },
  {
   "cell_type": "code",
   "execution_count": null,
   "id": "spread-revision",
   "metadata": {
    "scrolled": true
   },
   "outputs": [],
   "source": [
    "perceptron(df, w1, w2)"
   ]
  },
  {
   "cell_type": "markdown",
   "id": "genuine-camel",
   "metadata": {},
   "source": [
    "## Logical operator XOR\n",
    "\n",
    "What are some possible values for $w$\n",
    "\n",
    "| p | q | p XOR q |\n",
    "|---|---|---------|\n",
    "| 0 | 0 |    0    |\n",
    "| 0 | 1 |    1    |\n",
    "| 1 | 0 |    1    |\n",
    "| 1 | 1 |    0    | "
   ]
  },
  {
   "cell_type": "code",
   "execution_count": null,
   "id": "virgin-harvest",
   "metadata": {},
   "outputs": [],
   "source": [
    "w1 = ...\n",
    "w2 = ..."
   ]
  },
  {
   "cell_type": "code",
   "execution_count": null,
   "id": "canadian-fields",
   "metadata": {
    "scrolled": true
   },
   "outputs": [],
   "source": [
    "perceptron(df, w1, w2)"
   ]
  },
  {
   "cell_type": "markdown",
   "id": "inner-toddler",
   "metadata": {},
   "source": [
    "---\n",
    "## Summary\n",
    "\n",
    "Whilst we were able to think of weights for AND & OR, for XOR there is an **inconsistency!** \n",
    "\n",
    "Below, we explain why it is actually impossible to think of weights that can solve the XOR problem for the given perceptron...\n",
    "\n",
    "For some $\\theta$, we needs weights $w_1$ and $w_2$, such that, \n",
    "\n",
    "$$0 * w_1 + 0 *w_2 < \\theta \\rightarrow 0 < \\theta$$\n",
    "\n",
    "$$0 * w_1 + 1 *w_2 > \\theta \\rightarrow w_2 > \\theta$$\n",
    "\n",
    "$$1 * w_1 + 0 *w_2 > \\theta \\rightarrow w_1 > \\theta$$\n",
    "\n",
    "$$1 * w_1 + 1 *w_2 < \\theta \\rightarrow w_1 + w_2 < \\theta$$\n",
    "\n",
    "But this leads to an inconsistency!\n",
    "\n",
    "$$w_1 + w_2 < \\theta$$\n",
    "$$w_1 + w_2 > 2*\\theta$$"
   ]
  },
  {
   "cell_type": "markdown",
   "id": "traditional-claim",
   "metadata": {},
   "source": [
    "Minsky (1969) showed that this problem was impossible to solve for a single-layer perceptron!"
   ]
  }
 ],
 "metadata": {
  "jupytext": {
   "cell_metadata_filter": "-all",
   "notebook_metadata_filter": "-all"
  },
  "kernelspec": {
   "display_name": "Python 3 (ipykernel)",
   "language": "python",
   "name": "python3"
  },
  "language_info": {
   "codemirror_mode": {
    "name": "ipython",
    "version": 3
   },
   "file_extension": ".py",
   "mimetype": "text/x-python",
   "name": "python",
   "nbconvert_exporter": "python",
   "pygments_lexer": "ipython3",
   "version": "3.8.12"
  }
 },
 "nbformat": 4,
 "nbformat_minor": 5
}
