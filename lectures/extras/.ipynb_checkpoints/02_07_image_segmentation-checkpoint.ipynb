{
 "cells": [
  {
   "cell_type": "code",
   "execution_count": null,
   "id": "74c61d05",
   "metadata": {
    "slideshow": {
     "slide_type": "skip"
    }
   },
   "outputs": [],
   "source": [
    "%%HTML\n",
    "<link rel=\"stylesheet\" type=\"text/css\" href=\"../../css/custom.css\">"
   ]
  },
  {
   "cell_type": "markdown",
   "id": "277d189e",
   "metadata": {
    "slideshow": {
     "slide_type": "slide"
    }
   },
   "source": [
    "# Image Segmentation\n",
    "\n",
    "![footer_logo](../../images/logo.png)\n",
    "\n",
    "## Goal\n",
    "\n",
    "Classification is not the only computer vision task that can be performed by deep learning algorithms. \n",
    "\n",
    "In this notebook we shall discuss image segmentation.\n",
    "\n",
    "## Program\n",
    "\n",
    "- [Image segmentation]()\n",
    "- [Problem defintion]()\n",
    "- [Object detection pre-deep learning]()\n",
    "- [Two stage methods]()\n",
    "- [Single-shot methods]()"
   ]
  },
  {
   "cell_type": "markdown",
   "id": "4898f2e5",
   "metadata": {
    "slideshow": {
     "slide_type": "slide"
    }
   },
   "source": [
    "# Image segmentation\n",
    "\n",
    "![](../../images/image_segmentation/instance_segmentation_example.jpg)"
   ]
  },
  {
   "cell_type": "markdown",
   "id": "66a1d033",
   "metadata": {
    "slideshow": {
     "slide_type": "slide"
    }
   },
   "source": [
    "# Problem definition\n",
    "\n",
    "Given an input image, creates a pixel-wise mask for objects in the image. . \n",
    "\n",
    "![](../../images/image_segmentation/image_segmentation.png)"
   ]
  },
  {
   "cell_type": "markdown",
   "id": "19d7d2c0",
   "metadata": {
    "slideshow": {
     "slide_type": "subslide"
    }
   },
   "source": [
    "## Use-cases\n",
    "\n",
    "![](../../images/image_segmentation/cancer-cell-segmentation.png)"
   ]
  },
  {
   "cell_type": "markdown",
   "id": "37d01379",
   "metadata": {
    "slideshow": {
     "slide_type": "subslide"
    }
   },
   "source": [
    "## Types of image segmentation\n",
    "\n",
    "* Semantic segmentation\n",
    "* Instance segmentation\n",
    "\n",
    "![](../../images/image_segmentation/types_of_segmentation.png)"
   ]
  },
  {
   "cell_type": "markdown",
   "id": "f171936a",
   "metadata": {
    "slideshow": {
     "slide_type": "slide"
    }
   },
   "source": [
    "# Image segmentation pre-deep learning\n",
    "\n",
    "## Region-based segmentation\n",
    "Separates the objects into different regions based on some threshold value(s).\n",
    "\n",
    "Advantages: \n",
    "* Calculations are simpler\n",
    "* Fast operation speed\n",
    "* When the object and background have high contrast, this method performs really well\n",
    "\n",
    "Disadvantage:\n",
    "When there is no significant grayscale difference or an overlap of the grayscale pixel values, it becomes very difficult to get accurate segments."
   ]
  },
  {
   "cell_type": "markdown",
   "id": "9b068561",
   "metadata": {
    "slideshow": {
     "slide_type": "subslide"
    }
   },
   "source": [
    "# Image segmentation pre-deep learning\n",
    "\n",
    "## Edge Detection segmentation\n",
    "\n",
    "Makes use of discontinuous local features of an image to detect edges and hence define a boundary of the object.\n",
    "\n",
    "Advantage: \n",
    "It is good for images having better contrast between objects\n",
    "\n",
    "Disadvantage: \n",
    "Not suitable when there are too many edges in the image and if there is less contrast between objects."
   ]
  },
  {
   "cell_type": "markdown",
   "id": "2e642d6b",
   "metadata": {
    "slideshow": {
     "slide_type": "slide"
    }
   },
   "source": [
    "# Deep Learning \n",
    "## Mask R-CNN \n",
    "\n",
    "Mask R-CNN creates a pixel-wise mask for each object in an image. It's an extension of Faster R-CNN, which generates the _class_ and _bounding box_ for an object in an image. Mask R-CNN outputs the object mask as well. \n",
    "\n",
    "\n",
    "<center><img src=\"../../images/image_segmentation/Mask-R-CNN.png\" width=\"800\"><center>"
   ]
  },
  {
   "cell_type": "markdown",
   "id": "c1f4bc5c",
   "metadata": {
    "slideshow": {
     "slide_type": "slide"
    }
   },
   "source": [
    "# Summary\n",
    "\n",
    "- Image segmentation was originally performed by analysing the pixel values. E.g. thresholding, or determining edges.\n",
    "- The deep learning approach is an extension of Faster R-CNN which also outputs the pixel\n",
    "\n",
    "- Object detection was orginally performed using hand-crafted features\n",
    "- Deep learning methods learn the features\n",
    "    - Two stage methods e.g. R-CNN\n",
    "    - Single-shot methods e.g. YOLO\n",
    "- Deep learing has rseulted in a significant imporvement for object detection algorithms\n",
    "\n"
   ]
  }
 ],
 "metadata": {
  "celltoolbar": "Slideshow",
  "kernelspec": {
   "display_name": "Python 3 (ipykernel)",
   "language": "python",
   "name": "python3"
  },
  "language_info": {
   "codemirror_mode": {
    "name": "ipython",
    "version": 3
   },
   "file_extension": ".py",
   "mimetype": "text/x-python",
   "name": "python",
   "nbconvert_exporter": "python",
   "pygments_lexer": "ipython3",
   "version": "3.8.12"
  }
 },
 "nbformat": 4,
 "nbformat_minor": 5
}
