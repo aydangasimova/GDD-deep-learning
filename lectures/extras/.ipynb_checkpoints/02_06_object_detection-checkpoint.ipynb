{
 "cells": [
  {
   "cell_type": "code",
   "execution_count": null,
   "id": "79e1379d",
   "metadata": {
    "slideshow": {
     "slide_type": "skip"
    }
   },
   "outputs": [],
   "source": [
    "%%HTML\n",
    "<link rel=\"stylesheet\" type=\"text/css\" href=\"../../css/custom.css\">"
   ]
  },
  {
   "cell_type": "markdown",
   "id": "42d2b818",
   "metadata": {
    "slideshow": {
     "slide_type": "slide"
    }
   },
   "source": [
    "# Object detection\n",
    "\n",
    "![footer_logo](../../images/logo.png)\n",
    "\n",
    "\n",
    "## Goal\n",
    "\n",
    "Classification is not the only computer vision task that can be performed by deep learning algorithms. \n",
    "\n",
    "In this notebook we shall discuss object detection.\n",
    "\n",
    "## Program\n",
    "\n",
    "- [Object detection]()\n",
    "- [Problem defintion]()\n",
    "- [Object detection pre-deep learning]()\n",
    "- [Two stage methods]()\n",
    "- [Single-shot methods]()"
   ]
  },
  {
   "cell_type": "markdown",
   "id": "7f47e2a9",
   "metadata": {
    "slideshow": {
     "slide_type": "slide"
    }
   },
   "source": [
    "# Object detection\n",
    "\n",
    "- Classification is not the only computer vision task that can be performed by deep learning algorithms\n",
    "\n",
    "- Localizing objects is a crucial task for the real world:\n",
    "    - autonomous driving, \n",
    "    - personal robots, \n",
    "    - industrial robotics, . . . "
   ]
  },
  {
   "cell_type": "markdown",
   "id": "3833e60e",
   "metadata": {
    "slideshow": {
     "slide_type": "subslide"
    }
   },
   "source": [
    "### Example\n",
    "\n",
    "\n",
    "<center><img src=\"../../images/object_detection/gemeente.png\" width=\"800\"><center>"
   ]
  },
  {
   "cell_type": "code",
   "execution_count": null,
   "id": "0983bbec",
   "metadata": {
    "slideshow": {
     "slide_type": "subslide"
    }
   },
   "outputs": [],
   "source": [
    "from IPython.display import YouTubeVideo\n",
    "\n",
    "YouTubeVideo('75H9EAvYN80', width=600, height=450)"
   ]
  },
  {
   "cell_type": "markdown",
   "id": "65b04d8a",
   "metadata": {
    "slideshow": {
     "slide_type": "slide"
    }
   },
   "source": [
    "# Problem definition\n",
    "\n",
    "Given an input image, predict the locations of a certain class of objects in the image. The general workflow is represented by the diagram below:\n",
    "\n",
    "![](../../images/object_detection/object-detection.png)"
   ]
  },
  {
   "cell_type": "markdown",
   "id": "620fee9e",
   "metadata": {
    "slideshow": {
     "slide_type": "subslide"
    }
   },
   "source": [
    "## Bounding boxes\n",
    "Locations are usually represented using bounding boxes.\n",
    "\n",
    "![](../../images/object_detection/bounding-boxes.png)"
   ]
  },
  {
   "cell_type": "markdown",
   "id": "069bb875",
   "metadata": {
    "slideshow": {
     "slide_type": "subslide"
    }
   },
   "source": [
    "## Metrics\n",
    "\n",
    "Typically evaluations are done using the IoU metric (intersection over union).\n",
    "\n",
    "![](../../images/object_detection/IoU1.png)"
   ]
  },
  {
   "cell_type": "markdown",
   "id": "1fd5eb86",
   "metadata": {
    "slideshow": {
     "slide_type": "subslide"
    }
   },
   "source": [
    "## Metrics\n",
    "\n",
    "Although this is by no means a perfect metric, it is the de facto standard\n",
    "\n",
    "<!-- The box below would be flagged as having detected the image, even though it only has found half of the horse. -->\n",
    "\n",
    "![](../../images/object_detection/IoU2.png)"
   ]
  },
  {
   "cell_type": "markdown",
   "id": "e4abd3e2",
   "metadata": {
    "slideshow": {
     "slide_type": "slide"
    }
   },
   "source": [
    "# Object detection pre-deep learning\n",
    "\n",
    "## Handcrafted features\n",
    "\n",
    "Early object detectors were based on handcrafted features.\n",
    "\n",
    "For example, Haar-like features:\n",
    "\n",
    "![](../../images/object_detection/haar.png)\n",
    "\n",
    "[Viola & Jones 2001](https://www.cs.cmu.edu/~efros/courses/LBMV07/Papers/viola-cvpr-01.pdf)"
   ]
  },
  {
   "cell_type": "markdown",
   "id": "25314880",
   "metadata": {
    "slideshow": {
     "slide_type": "subslide"
    }
   },
   "source": [
    "## Sliding windows\n",
    "\n",
    "Sliding windows (of different sizes) would check if a feature response is strong enough. \n",
    "\n",
    "![](../../images/object_detection/sliding_window.gif)\n",
    "\n",
    "However, checking every possible window is time-consuming."
   ]
  },
  {
   "cell_type": "markdown",
   "id": "5f7a7de4",
   "metadata": {
    "slideshow": {
     "slide_type": "subslide"
    }
   },
   "source": [
    "## Selective search\n",
    "\n",
    "Instead, selective search can be used to propose regions that have high “objectness”. They are identified by hierarchial groupings from oversegmenting the image:\n",
    "\n",
    "1. oversegment the image based on pixel intensities\n",
    "2. add all bounding boxes corresponding to segmented parts to the list of regional proposals\n",
    "3. merge similar regions togethr\n",
    "4. repeat from step 2\n",
    "\n",
    "\n",
    "<img src=\"../../images/object_detection/selective-search.png\" width=\"800\">\n",
    "\n",
    "\n",
    "[Uijlings et. al 2013](https://ivi.fnwi.uva.nl/isis/publications/bibtexbrowser.php?key=UijlingsIJCV2013&bib=all.bib)"
   ]
  },
  {
   "cell_type": "markdown",
   "id": "adcb0834",
   "metadata": {
    "slideshow": {
     "slide_type": "slide"
    }
   },
   "source": [
    "# Deep Learning era\n",
    "\n",
    "With the advent of deep learning, the performance of object detectors has improved dramatically.\n",
    "\n",
    "<img src=\"../../images/object_detection/object-detection-history.png\" width=\"500\">\n",
    "\n",
    "[Ground AI](https://www.groundai.com/project/object-detection-in-20-years-a-survey/1)\n",
    "\n"
   ]
  },
  {
   "cell_type": "markdown",
   "id": "b23959c5",
   "metadata": {
    "slideshow": {
     "slide_type": "slide"
    }
   },
   "source": [
    "# Two stage methods\n",
    "\n",
    "![](../../images/object_detection/two-stage.png)\n",
    "\n",
    "1. Generate region proposals (instead of sliding window).\n",
    "2. Classify each proposed region, if feature response strong enough, output detection.\n",
    "\n",
    "In addition to predicting the presence of an object within the region proposals, the algorithm also feeds back to increase the precision of the bounding box.\n",
    "\n",
    "The R-CNN family of methods generate accurate results but are computationally heavy."
   ]
  },
  {
   "cell_type": "markdown",
   "id": "92a6eb00",
   "metadata": {
    "slideshow": {
     "slide_type": "subslide"
    }
   },
   "source": [
    "## R-CNN \n",
    "\n",
    "- Extract proposals via selective search [(Uijlings et. al 2013)](https://ivi.fnwi.uva.nl/isis/publications/bibtexbrowser.php?key=UijlingsIJCV2013&bib=all.bib)\n",
    "- Scale to common size then extract features with CNN\n",
    "- Classify with an SVM\n",
    "\n",
    "![](../../images/object_detection/r-cnn.png)\n",
    "\n",
    "[Girshick et al. 2014](https://arxiv.org/pdf/1311.2524.pdf)"
   ]
  },
  {
   "cell_type": "markdown",
   "id": "961a1570",
   "metadata": {
    "slideshow": {
     "slide_type": "subslide"
    }
   },
   "source": [
    "## Fast R-CNN\n",
    "\n",
    "- Extract proposals via selective search.\n",
    "- Extract features and classify with CNN.\n",
    "\n",
    "![](../../images/object_detection/fast-r-cnn.png)\n",
    "\n",
    "[Girshick et al. 2015](https://arxiv.org/abs/1504.08083#:~:text=Fast%20R%2DCNN%20builds%20on,while%20also%20increasing%20detection%20accuracy.)"
   ]
  },
  {
   "cell_type": "markdown",
   "id": "f011c7cd",
   "metadata": {
    "slideshow": {
     "slide_type": "subslide"
    }
   },
   "source": [
    "## Faster R-CNN\n",
    "\n",
    "- Faster R-CNN does away with selective search.\n",
    "- Instead it uses a separate network to predict the region proposals. \n",
    "- The predicted region proposals are then reshaped using a RoI pooling layer, which is then used to classify the image within the proposed region and predict the offset values for the bounding boxes.\n",
    "\n",
    "<img src=\"../../images/object_detection/faster-r-cnn.png\" width=\"400\" align=\"center\"/>\n",
    "\n",
    "[Ren et al. 2015](https://arxiv.org/pdf/1506.01497.pdf)\n"
   ]
  },
  {
   "cell_type": "markdown",
   "id": "781597d4",
   "metadata": {
    "slideshow": {
     "slide_type": "subslide"
    }
   },
   "source": [
    "## Real-time object detection\n",
    "\n",
    "The speed of Faster R-CNN allows it to be used for real-time object detection\n",
    "\n",
    "![](../../images/object_detection/real-time.png)\n",
    "\n",
    "[source](https://towardsdatascience.com/r-cnn-fast-r-cnn-faster-r-cnn-yolo-object-detection-algorithms-36d53571365e)"
   ]
  },
  {
   "cell_type": "code",
   "execution_count": null,
   "id": "0f83e5dc",
   "metadata": {
    "slideshow": {
     "slide_type": "subslide"
    }
   },
   "outputs": [],
   "source": [
    "from IPython.display import YouTubeVideo\n",
    "\n",
    "YouTubeVideo('zebSqDt6oMM', width=600, height=450)"
   ]
  },
  {
   "cell_type": "markdown",
   "id": "c31f775c",
   "metadata": {
    "slideshow": {
     "slide_type": "slide"
    }
   },
   "source": [
    "# Single-shot methods\n",
    "\n",
    "![](../../images/object_detection/single-shot.png)\n",
    "\n",
    "- A single convolutional network predicts the bounding boxes and the class probabilities for these boxes.\n",
    "- As these methods only have a single stage, they have very fast performance.\n",
    "\n"
   ]
  },
  {
   "cell_type": "markdown",
   "id": "4ee31850",
   "metadata": {
    "slideshow": {
     "slide_type": "subslide"
    }
   },
   "source": [
    "## YOLO: You Only Look Once\n",
    "\n",
    "- Take an image and split it into an SxS grid, for each of the gridcells we produce m bounding boxes. \n",
    "- For each of the bounding boxes, the network outputs a class probability.\n",
    "- For the bounding boxes with the highest class probability, it performs a regression to improve the boxes' precision.\n",
    "\n",
    "<img src=\"../../images/object_detection/yolo.png\" width=\"1000\">\n",
    "\n",
    "[Redman et al. 2016](https://arxiv.org/abs/1506.02640)"
   ]
  },
  {
   "cell_type": "markdown",
   "id": "2c23fc33",
   "metadata": {
    "slideshow": {
     "slide_type": "slide"
    }
   },
   "source": [
    "# Summary\n",
    "\n",
    "- Object detection was orginally performed using hand-crafted features\n",
    "- Deep learning methods learn the features\n",
    "    - Two stage methods e.g. R-CNN\n",
    "    - Single-shot methods e.g. YOLO\n",
    "- Deep learing has rseulted in a significant imporvement for object detection algorithms\n",
    "\n",
    "\n",
    "##### Reference\n",
    "[Kerola, T. 2019]()\n"
   ]
  }
 ],
 "metadata": {
  "celltoolbar": "Slideshow",
  "kernelspec": {
   "display_name": "Python 3 (ipykernel)",
   "language": "python",
   "name": "python3"
  },
  "language_info": {
   "codemirror_mode": {
    "name": "ipython",
    "version": 3
   },
   "file_extension": ".py",
   "mimetype": "text/x-python",
   "name": "python",
   "nbconvert_exporter": "python",
   "pygments_lexer": "ipython3",
   "version": "3.8.12"
  }
 },
 "nbformat": 4,
 "nbformat_minor": 5
}
