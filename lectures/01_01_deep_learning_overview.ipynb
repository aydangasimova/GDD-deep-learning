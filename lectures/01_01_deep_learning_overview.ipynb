{
 "cells": [
  {
   "cell_type": "code",
   "execution_count": null,
   "metadata": {
    "slideshow": {
     "slide_type": "skip"
    }
   },
   "outputs": [],
   "source": [
    "%%HTML\n",
    "<link rel=\"stylesheet\" type=\"text/css\" href=\"../css/custom.css\">"
   ]
  },
  {
   "cell_type": "markdown",
   "metadata": {
    "slideshow": {
     "slide_type": "slide"
    }
   },
   "source": [
    "# Deep Learning Overview\n",
    "\n",
    "![footer_logo](../images/logo.png)\n",
    "\n",
    "## Goal\n",
    "\n",
    "In this notebook we shall introduce Deep Learning and its applications, as well as how it relates to the field of Artificial Intelligence and traditional Machine Learning techniques. We shall also discuss the history of Deep Learning and what led to its rise to prominence over the last decade.\n",
    "\n",
    "## Program\n",
    "\n",
    "- [AI vs ML vs DL: what is what?]()\n",
    "- [Applications of Deep Learning]()\n",
    "- [History of Deep Learning]()\n",
    "- [The rise of Deep Learning]()"
   ]
  },
  {
   "cell_type": "markdown",
   "metadata": {
    "slideshow": {
     "slide_type": "slide"
    }
   },
   "source": [
    "# AI vs ML vs DL: what is what?"
   ]
  },
  {
   "cell_type": "markdown",
   "metadata": {
    "slideshow": {
     "slide_type": "fragment"
    }
   },
   "source": [
    "![half center](../images/deep_learning_overview/ai-ml-deeplearning.jpeg)\n",
    "\n",
    "[source](https://www.viatech.com/en/2018/05/history-of-artificial-intelligence/)"
   ]
  },
  {
   "cell_type": "markdown",
   "metadata": {
    "slideshow": {
     "slide_type": "notes"
    }
   },
   "source": [
    "- **Artificial intelligence** is the field of study that focusses on building intelligent programs and machines that can solve problems, or make decisions, which have typically been considered a human prerogative.\n",
    "\n",
    "\n",
    "- **Machine learning** is a subset of artificial intelligence (AI). Machine learning algorithms are not explicitly porgrammed, instead they are learnt by eposure to datasets and improve automatically through experience. There are a broad range of ML algortithms, with different algorithms can be suitable for different tasks, e.g.\n",
    "    - Decision trees for explainability.\n",
    "    - XGBoost for high performance.\n",
    "\n",
    "- **Deep learning** is a subset of machine learning. It uses *deep* neural networks to analyze different factors with a structure that is similar to the human neural system."
   ]
  },
  {
   "cell_type": "markdown",
   "metadata": {
    "slideshow": {
     "slide_type": "subslide"
    }
   },
   "source": [
    "## Traditional ML vs DL\n",
    "\n",
    "![half center](../images/deep_learning_overview/ml_vs_dl.png)\n",
    "\n",
    "<sub>Source: George Seif, Medium</sub>"
   ]
  },
  {
   "cell_type": "markdown",
   "metadata": {
    "slideshow": {
     "slide_type": "notes"
    }
   },
   "source": [
    "Typically, datasets require processing to extract the important features before they are suitable for traditional ML models. \n",
    "\n",
    "This is not the case for DL, which combines learning the important features for the task whilst doing the task.\n",
    "\n",
    "Not only is this efficient, but it removes human bias as to what is important for the performance of the task.\n",
    "\n"
   ]
  },
  {
   "cell_type": "markdown",
   "metadata": {
    "slideshow": {
     "slide_type": "subslide"
    }
   },
   "source": [
    "# Applications of Deep Learning\n",
    "* **Translation**\n",
    "* Object detection \n",
    "* image captioning\n",
    "* Text and image generation\n",
    "* Games \n",
    "\n",
    "\n",
    "![half center](../images/deep_learning_overview/google-translate.png)\n"
   ]
  },
  {
   "cell_type": "markdown",
   "metadata": {
    "slideshow": {
     "slide_type": "subslide"
    }
   },
   "source": [
    "# Applications of Deep Learning\n",
    "* Translation\n",
    "* **Object detection**\n",
    "* image captioning\n",
    "* Text and image generation\n",
    "* Games \n",
    "\n",
    "![half center](../images/deep_learning_overview/image-captioning.png)"
   ]
  },
  {
   "cell_type": "markdown",
   "metadata": {
    "slideshow": {
     "slide_type": "subslide"
    }
   },
   "source": [
    "# Applications of Deep Learning\n",
    "* Translation\n",
    "* Object detection \n",
    "* **image captioning**\n",
    "* Text and image generation\n",
    "* Games \n",
    "\n",
    "![half center](../images/deep_learning_overview/gemeente.png)"
   ]
  },
  {
   "cell_type": "markdown",
   "metadata": {
    "slideshow": {
     "slide_type": "subslide"
    }
   },
   "source": [
    "# Applications of Deep Learning\n",
    "* Translation\n",
    "* Object detection \n",
    "* image captioning\n",
    "* **Text and image generation**\n",
    "* Games \n",
    "\n",
    "<img src=\"../images/deep_learning_overview/notexist.png\" width=\"500\" align=\"center\">\n",
    "\n",
    "\n",
    "Source: [thispersondoesnotexist.com](https://www.thispersondoesnotexist.com)\n"
   ]
  },
  {
   "cell_type": "markdown",
   "metadata": {
    "slideshow": {
     "slide_type": "subslide"
    }
   },
   "source": [
    "# Applications of Deep Learning\n",
    "* Translation\n",
    "* Object detection \n",
    "* image captioning\n",
    "* Text and image generation\n",
    "* **Games** \n",
    "\n",
    "<img src=\"../images/deep_learning_overview/alphago.jpg\" width=\"600\">\n"
   ]
  },
  {
   "cell_type": "markdown",
   "metadata": {
    "slideshow": {
     "slide_type": "slide"
    }
   },
   "source": [
    "# History of Deep Learning\n",
    "\n",
    "![half center](../images/deep_learning_overview/ai-ml-deeplearning.jpeg)\n",
    "\n",
    "[source](https://www.viatech.com/en/2018/05/history-of-artificial-intelligence/)\n"
   ]
  },
  {
   "cell_type": "markdown",
   "metadata": {
    "slideshow": {
     "slide_type": "notes"
    }
   },
   "source": [
    "## History\n",
    "\n",
    "- 1956 - Dartmouth conference: birth of AI as a field of study and the \"golden years\" of AI.\n",
    "\n",
    "However, the development of AI solutions has not been a smooth ride; there have been many peeks and troughs in productivity."
   ]
  },
  {
   "cell_type": "markdown",
   "metadata": {
    "slideshow": {
     "slide_type": "subslide"
    }
   },
   "source": [
    "## Rosenblatt's perceptron (1958)\n",
    "\n",
    "A promising development that was able to perform binary classification.\n",
    "\n",
    "![half center](../images/deep_learning_overview/perceptron.png)"
   ]
  },
  {
   "cell_type": "markdown",
   "metadata": {
    "slideshow": {
     "slide_type": "notes"
    }
   },
   "source": [
    "- A feature vector is passed into the perceptron,\n",
    "- Each feature in the vector is combined with a weight and summed,\n",
    "- A non-linear activation function is applied,\n",
    "- This produces an ouput that can be compared with the true y value,\n",
    "- The error is used to update the weights so that the model improves."
   ]
  },
  {
   "cell_type": "markdown",
   "metadata": {
    "slideshow": {
     "slide_type": "subslide"
    }
   },
   "source": [
    "## Perceptron for logical operations\n",
    "\n",
    "Can you think of a perceptron to solve the following logical operations?\n",
    "\n",
    "* Logical operator AND\n",
    "* Logical operator OR\n",
    "* Logical operator XOR \n",
    "\n",
    "| p | q | p AND q | p OR q | p XOR q | \n",
    "|---|---|---------|--------|---------|\n",
    "| 0 | 0 |    0    |    0   |    0    |\n",
    "| 0 | 1 |    0    |    1   |     1   |\n",
    "| 1 | 0 |    0    |    1   |    1    |\n",
    "| 1 | 1 |    1    |    1   |    0    |\n",
    "\n",
    "[Thought Experiment Exercise](../exercises/01_00_perceptron_thought_experiment.ipynb)\n"
   ]
  },
  {
   "cell_type": "markdown",
   "metadata": {
    "slideshow": {
     "slide_type": "subslide"
    }
   },
   "source": [
    "## Minsky (1969)\n",
    "\n",
    "Work on this field came to a hault when Minsky demonstrated the severe limitations of these single layer networks.\n",
    "\n",
    "The XOR problem was impossible to solve for a single-layer perceptron!\n",
    "\n",
    "| p | q | p XOR q |\n",
    "|---|---|---------|\n",
    "| 0 | 0 |    0    |\n",
    "| 0 | 1 |    1    |\n",
    "| 1 | 0 |    1    |\n",
    "| 1 | 1 |    0    | "
   ]
  },
  {
   "cell_type": "markdown",
   "metadata": {
    "slideshow": {
     "slide_type": "subslide"
    }
   },
   "source": [
    "## Solution? More layers\n",
    "\n",
    "Minksy never said XOR cannot be solved by neural networks - only that XOR cannot be solved with 1-layer perceptrons!\n",
    "\n",
    "![neuron_comparison center half](../images/deep_learning_overview/neuron.png)"
   ]
  },
  {
   "cell_type": "markdown",
   "metadata": {
    "slideshow": {
     "slide_type": "fragment"
    }
   },
   "source": [
    "Multi-layer perceptrons (MLP) can solve XOR:\n",
    "- One layer’s output is input to the next layer,"
   ]
  },
  {
   "cell_type": "markdown",
   "metadata": {
    "slideshow": {
     "slide_type": "fragment"
    }
   },
   "source": [
    "- Non-linearities are included between layers, e.g. sigmoids,"
   ]
  },
  {
   "cell_type": "markdown",
   "metadata": {
    "slideshow": {
     "slide_type": "fragment"
    }
   },
   "source": [
    " - In fact, 9 years earlier Minsky built such a multi-layer perceptron!"
   ]
  },
  {
   "cell_type": "markdown",
   "metadata": {
    "slideshow": {
     "slide_type": "subslide"
    }
   },
   "source": [
    "## Problem\n",
    "\n",
    "Rosenblatt’s algorithm not applicable for training a multi-layer perceptrons. \n",
    "\n",
    "![neuron_comparison center half](../images/deep_learning_overview/neuron.png)"
   ]
  },
  {
   "cell_type": "markdown",
   "metadata": {
    "slideshow": {
     "slide_type": "fragment"
    }
   },
   "source": [
    "Why?\n",
    "- Learning depends on comparing the output to the \"ground truth\""
   ]
  },
  {
   "cell_type": "markdown",
   "metadata": {
    "slideshow": {
     "slide_type": "fragment"
    }
   },
   "source": [
    "- For the intermediate neurons there is no “ground truth”"
   ]
  },
  {
   "cell_type": "markdown",
   "metadata": {
    "slideshow": {
     "slide_type": "fragment"
    }
   },
   "source": [
    "- The Rosenblatt algorithm cannot train intermediate layers"
   ]
  },
  {
   "cell_type": "markdown",
   "metadata": {
    "slideshow": {
     "slide_type": "subslide"
    }
   },
   "source": [
    "## AI winter\n",
    "\n",
    "AI had been overhyped and underdelivered, this led to funding cuts and the first \"AI winter\".\n",
    "\n",
    "However, in the intervening years significant discoveries were made:\n",
    "\n",
    "- Backpropagation $\\rightarrow$ Learning algorithm for MLPs\n",
    "    - 1986 - Backpropagation - Geoffrey Hinton\n",
    "    - 1989 - Backpropagation to multi-layer perceptron - Yan LeCun\n",
    "- Recurrent networks $\\rightarrow$  Neural Networks for infinite sequences\n",
    "    - 1986 - RNNSs - David Rumelhart\n",
    "    - 1997 - LSTMs - Hochreiter and Schmidhuber\n",
    "- Convolutional networks $\\rightarrow$  Neural Networks that capture spatial properties\n",
    "    - 1998 - CNNs - Yan Lecun"
   ]
  },
  {
   "cell_type": "markdown",
   "metadata": {
    "slideshow": {
     "slide_type": "subslide"
    }
   },
   "source": [
    "## The last decade has seen great progress in deep learning\n",
    "\n",
    "- 2009 - GPU for deep learning - Andrew Ng\n",
    "- 2011 - Demonstration of ReLu for deep neural networks - Yoshua Bengio\n",
    "- 2012 - AlexNet wins ImageNet 25% to 16% error\n",
    "- 2012 - Dropout technique - Geoffrey Hinton\n",
    "- 2014 - Generative adversarial networks - Ian Goodfellow & Yoshua Bengio\n",
    "- 2015 - CNN beats human error in ImageNet 5% to 3% (ResNet)\n",
    "- 2016 - AlphaGo - Google DeepMind\n",
    "- 2018 - \"NLP's ImageNet moment has arrived\" - Sebastian Ruder\n",
    "- 2019 - Human error for GLUE - BERT, ELMo, Open AI's GPT\n",
    "- 2020 - GPT-3 performs SOTA language generation"
   ]
  },
  {
   "cell_type": "markdown",
   "metadata": {
    "slideshow": {
     "slide_type": "subslide"
    }
   },
   "source": [
    "# The rise of deep learning\n",
    "\n"
   ]
  },
  {
   "cell_type": "markdown",
   "metadata": {
    "slideshow": {
     "slide_type": "fragment"
    }
   },
   "source": [
    "1. GPUs for fast computation\n",
    "\n",
    "    _(GPU for deep learning by Andrew Ng, 2009)_"
   ]
  },
  {
   "cell_type": "markdown",
   "metadata": {
    "slideshow": {
     "slide_type": "fragment"
    }
   },
   "source": [
    "2. Effective neural network components\n",
    "\n",
    "    _e.g. dropout (Hinton, 2012) and ReLU (Bengio, 2011)_\n",
    "\n"
   ]
  },
  {
   "cell_type": "markdown",
   "metadata": {
    "slideshow": {
     "slide_type": "fragment"
    }
   },
   "source": [
    "\n",
    "3. Large annotated datasets \n",
    "\n",
    "    _(e.g. ImageNet, 2011)_\n",
    "    "
   ]
  },
  {
   "cell_type": "markdown",
   "metadata": {
    "slideshow": {
     "slide_type": "fragment"
    }
   },
   "source": [
    "\n",
    "4. Frameworks \n",
    "\n",
    "    _(Keras, PyTorch, Theanos etc.)_\n"
   ]
  },
  {
   "cell_type": "markdown",
   "metadata": {
    "slideshow": {
     "slide_type": "subslide"
    }
   },
   "source": [
    "## ImageNet dataset\n",
    "![](../images/deep_learning_overview/dog_breeds.png)"
   ]
  },
  {
   "cell_type": "markdown",
   "metadata": {
    "slideshow": {
     "slide_type": "subslide"
    }
   },
   "source": [
    "## Frameworks\n",
    "![three_quarters center](../images/deep_learning_overview/frameworks-time.jpg)\n"
   ]
  },
  {
   "cell_type": "markdown",
   "metadata": {
    "slideshow": {
     "slide_type": "subslide"
    }
   },
   "source": [
    "## Frameworks\n",
    "\n",
    "* Theano (2007 - 2017-ish): open source project by the University of Montréal. \n",
    "* Keras (March 2015): \n",
    "    - originally a standalone API with various backends \n",
    "    - now part of TensorFlow\n",
    "* TensorFlow (November 2015): open source library by Google\n",
    "* PyTorch (September 2016): open source library by Facebook \n",
    "\n",
    "\n",
    "<img src=\"../images/deep_learning_overview/pytorch.png\" width=\"200\">\n",
    "<img src=\"../images/deep_learning_overview/tensorflow.png\" width=\"200\">\n",
    "<img src=\"../images/deep_learning_overview/keras.png\" width=\"200\">\n"
   ]
  },
  {
   "cell_type": "markdown",
   "metadata": {
    "slideshow": {
     "slide_type": "slide"
    }
   },
   "source": [
    "# Summary\n",
    "\n",
    "In this notebook we covered, \n",
    "- [AI vs ML vs DL: what is what?]()\n",
    "- [Applications of Deep Learning]()\n",
    "- [History of Deep Learning]()\n",
    "- [The rise of Deep Learning]()\n",
    "\n",
    "\n",
    "![footer_logo](../images/logo.png)"
   ]
  }
 ],
 "metadata": {
  "celltoolbar": "Slideshow",
  "kernelspec": {
   "display_name": "Python 3 (ipykernel)",
   "language": "python",
   "name": "python3"
  },
  "language_info": {
   "codemirror_mode": {
    "name": "ipython",
    "version": 3
   },
   "file_extension": ".py",
   "mimetype": "text/x-python",
   "name": "python",
   "nbconvert_exporter": "python",
   "pygments_lexer": "ipython3",
   "version": "3.8.12"
  }
 },
 "nbformat": 4,
 "nbformat_minor": 4
}
