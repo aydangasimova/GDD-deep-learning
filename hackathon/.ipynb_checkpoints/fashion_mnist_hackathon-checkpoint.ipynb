{
 "cells": [
  {
   "cell_type": "code",
   "execution_count": null,
   "metadata": {},
   "outputs": [],
   "source": [
    "%%HTML\n",
    "<link rel=\"stylesheet\" type=\"text/css\" href=\"../css/custom.css\">"
   ]
  },
  {
   "cell_type": "markdown",
   "metadata": {},
   "source": [
    "# Hackathon time!\n",
    "\n",
    "\n",
    "![footer_logo](../images/logo.png)\n",
    "\n",
    "## Goal\n",
    "\n",
    "- Put our Deep Learning skills to work\n",
    "- Master our Keras skills\n",
    "- Have fun\n",
    "\n",
    "## Datasets\n",
    "\n",
    "- Fashion MNIST: clothing classification\n",
    "- Alternative: Food recipes classification\n"
   ]
  },
  {
   "cell_type": "code",
   "execution_count": null,
   "metadata": {},
   "outputs": [],
   "source": [
    "import inspect\n",
    "import os\n",
    "\n",
    "import matplotlib.pyplot as plt\n",
    "import numpy as np\n",
    "import pandas as pd\n",
    "import seaborn as sns\n",
    "import random\n",
    "\n",
    "import sys\n",
    "sys.path.insert(0, '../')\n",
    "\n",
    "\n",
    "%matplotlib inline"
   ]
  },
  {
   "cell_type": "code",
   "execution_count": null,
   "metadata": {},
   "outputs": [],
   "source": [
    "plt.rcParams[\"figure.figsize\"] = 15, 6"
   ]
  },
  {
   "cell_type": "markdown",
   "metadata": {},
   "source": [
    "---\n",
    "## Suggested workflow\n",
    "\n",
    "First get a baseline model working:\n",
    "\n",
    "- Preprocessing the data (and perform a train/test split if necessary).\n",
    "- Define a simple Neural Network model.\n",
    "- Compile it.\n",
    "- Train and monitor performance.\n",
    "- Evaluate performance.\n",
    "\n",
    "Afterwards analyse your results and see if you can improve the model:\n",
    "\n",
    "- When does model fail? Study the mispredicted cases.\n",
    "- Does performance improve with a deeper model?\n",
    "- Is the model overfitting?\n",
    "- How do the hyperparamter settings affect performance?\n",
    "- Does data augmentation help?\n",
    "- Use Tensorboard to compare models.\n",
    "- Could transfer learning improve performance?"
   ]
  },
  {
   "cell_type": "markdown",
   "metadata": {},
   "source": [
    "### Have fun!"
   ]
  },
  {
   "cell_type": "markdown",
   "metadata": {},
   "source": [
    "---\n",
    "### Dataset 1: Fashion MNIST: clothing images classification\n",
    "\n",
    "This famous dataset contains 10 types of clothing items with thousands of pictures for each:\n",
    "\n",
    "Label ---\tDescription\n",
    "- 0 ---\tT-shirt/top\n",
    "- 1 ---\tTrouser\n",
    "- 2 ---\tPullover\n",
    "- 3 ---\tDress\n",
    "- 4 ---\tCoat\n",
    "- 5 ---\tSandal\n",
    "- 6 ---\tShirt\n",
    "- 7 ---\tSneaker\n",
    "- 8 ---\tBag\n",
    "- 9 ---\tAnkle boot\n",
    "\n",
    "Let's train a classifier that can distinguish them!\n",
    "\n",
    "**Bonus questions**: \n",
    "\n",
    "- Which clothing items are easiest to identify?\n",
    "- Which are the hardest to tell from each other? Is it what you expected?\n",
    "- Use ImageDataGenerator for image augmentation"
   ]
  },
  {
   "cell_type": "code",
   "execution_count": null,
   "metadata": {},
   "outputs": [],
   "source": [
    "from tensorflow.keras.datasets import fashion_mnist\n",
    "\n",
    "(X_train, y_train), (X_test, y_test) = fashion_mnist.load_data()\n",
    "\n",
    "X_train.shape, y_train.shape"
   ]
  },
  {
   "cell_type": "code",
   "execution_count": null,
   "metadata": {},
   "outputs": [],
   "source": [
    "from sklearn.model_selection import train_test_split\n",
    "X_train, X_val,y_train,  y_val = train_test_split(X_train,y_train,train_size=0.8)\n",
    "X_train.shape, y_train.shape, X_val.shape, y_val.shape"
   ]
  },
  {
   "cell_type": "code",
   "execution_count": null,
   "metadata": {
    "scrolled": false
   },
   "outputs": [],
   "source": [
    "[ax.imshow(random.choice(X_train), cmap=\"gray\") for ax in plt.subplots(1, 6)[1]];"
   ]
  },
  {
   "cell_type": "markdown",
   "metadata": {},
   "source": [
    "Continue from here..."
   ]
  },
  {
   "cell_type": "code",
   "execution_count": null,
   "metadata": {},
   "outputs": [],
   "source": []
  },
  {
   "cell_type": "code",
   "execution_count": null,
   "metadata": {},
   "outputs": [],
   "source": [
    "# %load ../answers/fashion_mnist_preprocessing.py"
   ]
  },
  {
   "cell_type": "code",
   "execution_count": null,
   "metadata": {},
   "outputs": [],
   "source": [
    "# %load ../answers/fashion_mnist_model.py"
   ]
  },
  {
   "cell_type": "code",
   "execution_count": null,
   "metadata": {},
   "outputs": [],
   "source": [
    "# %load ../answers/fashion_mnist_compiling.py"
   ]
  },
  {
   "cell_type": "code",
   "execution_count": null,
   "metadata": {},
   "outputs": [],
   "source": [
    "# %load ../answers/fashion_mnist_imagedatagenerator.py"
   ]
  },
  {
   "cell_type": "code",
   "execution_count": null,
   "metadata": {},
   "outputs": [],
   "source": [
    "# %load ../answers/fashion_mnist_training.py"
   ]
  },
  {
   "cell_type": "code",
   "execution_count": null,
   "metadata": {},
   "outputs": [],
   "source": [
    "# %load ../answers/fashion_mnist_evaluating.py"
   ]
  },
  {
   "cell_type": "markdown",
   "metadata": {},
   "source": [
    "---\n",
    "### Dataset 2: Food Recipes classification\n",
    "\n",
    "This dataset contains thousands of food recipes from [Kaggle website](https://www.kaggle.com/hugodarwood/epirecipes). Each row contains information about the type of recipes and their ingredients\n",
    "\n",
    "**Our goal** is to use this information to classify whether a recipe is vegetarian or not.\n",
    "\n",
    "**Important tip**: you may want to get rid of very infrequent features and missing values before starting with NNs!"
   ]
  },
  {
   "cell_type": "code",
   "execution_count": null,
   "metadata": {},
   "outputs": [],
   "source": [
    "#TODO - fill in your path to the data here.\n",
    "food_data = pd.read_csv(...)\n",
    "\n",
    "print(food_data.shape)\n",
    "food_data.head()"
   ]
  },
  {
   "cell_type": "code",
   "execution_count": null,
   "metadata": {},
   "outputs": [],
   "source": [
    "#separating features and the target\n",
    "X = food_data.drop(columns=['title','vegetarian','vegan','salad','side'])\n",
    "y = food_data['vegetarian']"
   ]
  },
  {
   "cell_type": "code",
   "execution_count": null,
   "metadata": {},
   "outputs": [],
   "source": [
    "# %load ../answers/dataset1_preprocess.py"
   ]
  },
  {
   "cell_type": "markdown",
   "metadata": {},
   "source": [
    "Continue from here..."
   ]
  },
  {
   "cell_type": "code",
   "execution_count": null,
   "metadata": {},
   "outputs": [],
   "source": []
  }
 ],
 "metadata": {
  "kernelspec": {
   "display_name": "Python 3 (ipykernel)",
   "language": "python",
   "name": "python3"
  },
  "language_info": {
   "codemirror_mode": {
    "name": "ipython",
    "version": 3
   },
   "file_extension": ".py",
   "mimetype": "text/x-python",
   "name": "python",
   "nbconvert_exporter": "python",
   "pygments_lexer": "ipython3",
   "version": "3.8.12"
  }
 },
 "nbformat": 4,
 "nbformat_minor": 4
}
